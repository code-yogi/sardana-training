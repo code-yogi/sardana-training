{
 "cells": [
  {
   "cell_type": "markdown",
   "metadata": {
    "slideshow": {
     "slide_type": "slide"
    }
   },
   "source": [
    "# How to write macros - practical"
   ]
  },
  {
   "cell_type": "markdown",
   "metadata": {
    "slideshow": {
     "slide_type": "slide"
    }
   },
   "source": [
    "## Acquire the active measurement group while oscilating a motor"
   ]
  },
  {
   "cell_type": "markdown",
   "metadata": {
    "slideshow": {
     "slide_type": "subslide"
    }
   },
   "source": [
    "### Macro plugins discovery\n",
    "* Sardana built-in macros are importable from `sardana.macroserver.macros`\n",
    "* The plugin discovery system is based on directory scanning and python module inspection\n",
    "* Custom macros should be installed in one of the `MacroPath` directories:\n",
    " * Create /macros directory: `mkdir /macros`\n",
    " * In spock: `Pool_demo1_1.put_property({\"MacroPath\":[\"/macros\"]})`\n",
    " * Restart the Sardana server\n",
    "* The path order is important! Macros in the higher position paths will take precedence over the lower position paths."
   ]
  },
  {
   "cell_type": "markdown",
   "metadata": {
    "slideshow": {
     "slide_type": "subslide"
    }
   },
   "source": [
    "### Acquire the active measurement group while oscilating a motor\n",
    "* Open the template: `kwrite sardana-training/macros/templates/experiment.py`\n",
    "* Implement parameters: motor, amplitude and integration time\n",
    "* Reserver motion and measurement group objects\n",
    "* Read current position and prepare an array of positions to oscilate\n",
    "* Put integration time on the measurement group\n",
    "* Start count\n",
    "* While the measurement group is counting move motor to the next position\n",
    "* change the next position pointer using the incremental index and the modulo operation"
   ]
  },
  {
   "cell_type": "markdown",
   "metadata": {
    "slideshow": {
     "slide_type": "slide"
    }
   },
   "source": [
    "## Perform a region scan"
   ]
  },
  {
   "cell_type": "markdown",
   "metadata": {
    "slideshow": {
     "slide_type": "subslide"
    }
   },
   "source": [
    "### Perform a region scan\n",
    "* Configure the experiment using the expconf\n",
    " * `configure the showscan online`\n",
    " * `confgure the scan file and scan dir`\n",
    "* `prdef regscan`\n",
    "* `regscan mot01 0.1 0 10 10 20 2`"
   ]
  },
  {
   "cell_type": "markdown",
   "metadata": {
    "slideshow": {
     "slide_type": "subslide"
    }
   },
   "source": [
    "# How to write macros - real use cases"
   ]
  },
  {
   "cell_type": "code",
   "execution_count": null,
   "metadata": {
    "collapsed": true,
    "slideshow": {
     "slide_type": "slide"
    }
   },
   "outputs": [],
   "source": []
  }
 ],
 "metadata": {
  "celltoolbar": "Slideshow",
  "kernelspec": {
   "display_name": "Python 3",
   "language": "python",
   "name": "python3"
  },
  "language_info": {
   "codemirror_mode": {
    "name": "ipython",
    "version": 3
   },
   "file_extension": ".py",
   "mimetype": "text/x-python",
   "name": "python",
   "nbconvert_exporter": "python",
   "pygments_lexer": "ipython3",
   "version": "3.5.3"
  }
 },
 "nbformat": 4,
 "nbformat_minor": 2
}
