{
 "cells": [
  {
   "cell_type": "markdown",
   "metadata": {
    "slideshow": {
     "slide_type": "slide"
    }
   },
   "source": [
    "#  MACRO FEATURES - EXAMPLES & USE CASES\n",
    "<br>\n",
    "<br>\n",
    "<img alt=\"Creative Commons License\" style=\"border-width:0\" src=\"https://i.creativecommons.org/l/by/4.0/88x31.png\" />\n",
    "Sardana-Training by ALBA Synchrotron is licensed under the Creative Commons Attribution 4.0 International License.  \n",
    "To view a copy of this license, visit http://creativecommons.org/licenses/by/4.0/."
   ]
  },
  {
   "cell_type": "markdown",
   "metadata": {
    "slideshow": {
     "slide_type": "subslide"
    }
   },
   "source": [
    "## MACRO FEATURES - EXAMPLES AND USE CASES\n",
    "\n",
    "### * Parameter Repetitions: BL09-Mistral Collect Macros\n",
    "\n",
    "### * Hooks\n",
    "\n",
    "### * Custom Recorders: Dumb Recorder\n",
    "\n",
    "### * Access To The Scan Data: BL04-MSPD mythen_take macro\n",
    "\n"
   ]
  },
  {
   "cell_type": "markdown",
   "metadata": {
    "slideshow": {
     "slide_type": "slide"
    }
   },
   "source": [
    "# SETUP A CLEAN ENVIRONMENT\n",
    "\n",
    "## taurus-test Docker Container Creation"
   ]
  },
  {
   "cell_type": "markdown",
   "metadata": {
    "slideshow": {
     "slide_type": "subslide"
    }
   },
   "source": [
    "### CLEAN DOCKER CONTAINER CREATION\n",
    "\n",
    "#### Create a clean docker container for Sardana Suite installation & TaurusGUI creation from scratch\n",
    "    \n",
    "* Pull the **taurus-test** image from dockerhub\n",
    "```\n",
    "docker pull cpascual/taurus-test:debian-stretch\n",
    "```\n",
    "  \n",
    "  \n",
    "* Instantiate and execute the docker conatiner\n",
    "```\n",
    "xhost +local:\n",
    "docker run -d --name=taurus-stretch -h taurus-test -e DISPLAY=$DISPLAY -e QT_X11_NO_MITSHM=1 -v /tmp/.X11-unix:/tmp/.X11-unix cpascual/taurus-test:debian-stretch\n",
    "docker exec -it taurus-stretch bash\n",
    "```\n",
    "  \n",
    "  \n",
    "* Docker taurus-test provides:  \n",
    "    * Taurus dependencies and recommended packages (PyTango, PyQt...)\n",
    "    * A TangoDB and a TangoTest DS configured and running\n"
   ]
  },
  {
   "cell_type": "markdown",
   "metadata": {
    "slideshow": {
     "slide_type": "slide"
    }
   },
   "source": [
    "# INSTALL SARDANA SUITE\n",
    "\n",
    "## Taurus and Sardana Installation from Source Code"
   ]
  },
  {
   "cell_type": "markdown",
   "metadata": {
    "slideshow": {
     "slide_type": "subslide"
    }
   },
   "source": [
    "### TAURUS AND SARDANA INSTALLATION INSIDE THE CLEAN DOCKER\n",
    "\n",
    "#### Installing Taurus and Sardana inside the clean taurus-test Docker previously created\n",
    "  \n",
    "* Taurus installation from source code\n",
    "```\n",
    "git clone -b develop https://github.com/taurus-org/taurus.git\n",
    "cd taurus\n",
    "python setup.py install\n",
    "cd ..\n",
    "```\n",
    "  \n",
    "  \n",
    "* Sardana installation from source code\n",
    "```\n",
    "git clone -b develop https://github.com/sardana-org/sardana.git\n",
    "cd sardana\n",
    "python setup.py install\n",
    "cd ..\n",
    "```\n",
    "\n",
    "\n",
    "\n",
    "### Run Sardana:\n",
    "\n",
    "* Run the **Sardana Tango Device Server**: ```Sardana demo1```\n",
    "  \n"
   ]
  },
  {
   "cell_type": "markdown",
   "metadata": {
    "slideshow": {
     "slide_type": "slide"
    }
   },
   "source": [
    "# PARAMETER REPETITIONS\n",
    "\n",
    "## ManyTomos: Collect Macro at BL09-MISTRAL Beamline"
   ]
  },
  {
   "cell_type": "markdown",
   "metadata": {
    "slideshow": {
     "slide_type": "subslide"
    }
   },
   "source": [
    "## PARAMETER REPETITIONS\n",
    "### Collect Macro ManyTomos at BL09-Mistral Beamline\n",
    "\n",
    "\n",
    "* **BL09-Mistral**  is dedicated to **Tomography and Spectroscopy Imaging**\n",
    "\n",
    "\n",
    "* **X-Ray Microscope** accepting scripts for performing the **data collection**\n",
    "\n",
    "\n",
    "* Long scripts are needed for collecting the tomography image projections:  \n",
    "Moving the **Sample Position**, the **ZonePlate Microscope Lens**, the **angles**,  \n",
    "the **exposure times**, the **Energies**...\n",
    "\n",
    "\n",
    "* Requirement: **macro** to create **X-Ray Microscope txt Scripts**\n",
    "\n",
    "\n",
    "![TXM Microscope Scheme](TXM.jpg)\n"
   ]
  },
  {
   "cell_type": "markdown",
   "metadata": {
    "slideshow": {
     "slide_type": "subslide"
    }
   },
   "source": [
    "## PARAMETER REPETITIONS: \n",
    "### Collect Macro ManyTomos at BL09-Mistral\n",
    "\n",
    "\n",
    "### MacroExecutor View of ManyTomos macro with a set of Parameters \n",
    "\n",
    "* ManyTomos generates a txt script, that is used by the BL09 TXM-Microscope to execute the data collection\n",
    "* Example: \n",
    " * Take Tomographies for two different energies\n",
    " \n",
    " ![Many Tomos Collect Macro](manytomos.jpg)\n",
    "  \n"
   ]
  },
  {
   "cell_type": "markdown",
   "metadata": {
    "slideshow": {
     "slide_type": "slide"
    }
   },
   "source": [
    "# CUSTOM RECORDERS \n",
    "\n",
    "## Dumb Recorder: A Sardana Custom Recorder Example"
   ]
  },
  {
   "cell_type": "markdown",
   "metadata": {
    "slideshow": {
     "slide_type": "subslide"
    }
   },
   "source": [
    "# CUSTOM RECORDERS: Dumb Recorder\n",
    "\n",
    "\n",
    "* Sardana provides an example of *Custom Recorder*: the *DumbRecorder*\n",
    "\n",
    "* DumbRecorder: Prints in the macroserver of the acquisitions done during a scan\n",
    "\n",
    "* How to set up the Recorder:\n",
    "    * From spock: Add the recorder path to the macroexecutor properties:  \n",
    "    ```_MACRO_SERVER.put_property({\"RecorderPath\":[\"/sardana/src/sardana/macroserver/recorders/examples\"]})```\n",
    "    * Define the **SCAN_RECORDER_MAP** in sardanacustomsettings:  \n",
    "    ```\n",
    "    SCAN_RECORDER_MAP = {\".txt\":\"DumbRecorder\"}\n",
    "    ```\n",
    "    * Restart the MacroServer (or de Sardana Server)\n",
    "    * Define the **Scan Directory** and the **Scan File**:\n",
    "    ```\n",
    "    senv ScanDir /tmp/\n",
    "    senv ScanFile foo.txt\n",
    "    ```\n",
    "    * Scan Output in MacroServer logs: **dscan mot21 0 2 1 0.1**\n",
    "\n",
    "  ![Custom Recording](dumbrecording.jpg)\n",
    "  "
   ]
  },
  {
   "cell_type": "markdown",
   "metadata": {
    "slideshow": {
     "slide_type": "slide"
    }
   },
   "source": [
    "# HOOKS\n",
    "\n",
    "## CarbonScan: a Scan Macro using the Hooks at BL24-CIRCE"
   ]
  },
  {
   "cell_type": "markdown",
   "metadata": {
    "slideshow": {
     "slide_type": "subslide"
    }
   },
   "source": [
    "## HOOKS\n",
    "### CarbonScan: a Scan Macro using the Hooks at BL24-CIRCE Beamline\n",
    "\n",
    "\n",
    "* **Experiment:**\n",
    "    * Experiment at BL24-CIRCE ALBA Beamline\n",
    "    * PEEM Experiment: Photo Emission Electron Microscopy\n",
    "    * Detector: PCO 2D Camera\n",
    "    * Sample: **Graphene Carbon Monolayer**\n",
    "    * Macro **CarbonScan**: Scan acquiring a 2D image at each Energy\n",
    "\n",
    "* **Code:**\n",
    "\n",
    "    * https://sourceforge.net/p/sardana/macros.git/ci/master/tree/ALBA_BL24_CIRCE/carbon_scan.py\n",
    "    * https://sourceforge.net/p/sardana/macros.git/ci/master/tree/ALBA_BL24_CIRCE/peem_macros.py\n",
    "    \n"
   ]
  },
  {
   "cell_type": "markdown",
   "metadata": {
    "slideshow": {
     "slide_type": "subslide"
    }
   },
   "source": [
    "## HOOKS\n",
    "### CarbonScan: a Scan Macro using the Hooks at BL24-CIRCE Beamline\n",
    "\n",
    "* **Requirements and Constraints**\n",
    "    * Macro **CarbonScan**: Scan acquiring a 2D image at each Energy\n",
    "    * Carbon beamline optics absorbs a lot of photons\n",
    "        * Low flux arriving to the Carbon monoLayer Sample\n",
    "        * Images normalized at the Carbon Edge (285eV) flux\n",
    "    * PEEM 2D detector not still integrated in the Sardana\n",
    "\n",
    "* **Solution:** Usage of a **Hook**\n",
    "    * **CarbonScan** macro: Energy step scan for Graphene acquisition\n",
    "    * ElectroMeter gets the flux at each energy for normalizing images\n",
    "    * The CarbonScan macro calls the **Hook peemGetSingleImage**: \n",
    "        * Acquires PEEM images through a TangoDS at each point\n",
    "        * Sardana Scan hookplace: **post-move**"
   ]
  },
  {
   "cell_type": "markdown",
   "metadata": {
    "slideshow": {
     "slide_type": "slide"
    }
   },
   "source": [
    "# DATA PROPERTY: Access To The Macro Data\n",
    "\n",
    "## mythen_take: Mythen Data Collection Macro at BL04-MSPD"
   ]
  },
  {
   "cell_type": "markdown",
   "metadata": {
    "slideshow": {
     "slide_type": "subslide"
    }
   },
   "source": [
    "## DATA PROPERTY: Access To The Macro Data\n",
    "### mythen_take: Mythen Data Collection macro at BL04-MSPD Beamline\n",
    "\n",
    "\n",
    "* **Experiment:**\n",
    "    * BL04-MSPD: Material Science and Powder Diffraction Beamline\n",
    "    * XRD X-Ray Diffraction Experiment \n",
    "    * Batteries are studied during cycles of charge and discharge\n",
    "    * Mythen 1D detector for collecting the spectrums\n",
    "    * Potentiostat is setting and reading the Voltage applied to the battery\n",
    "    * Potentiostat connected to Adlink data acquisition card\n",
    "    * Results: \n",
    "        * Spectrum + Battery Voltage stored in the same file\n",
    "        * Variation of the chemical species in the battery in function of the measure of charge/discharge\n",
    "    \n",
    "    \n"
   ]
  },
  {
   "cell_type": "markdown",
   "metadata": {
    "collapsed": true,
    "slideshow": {
     "slide_type": "subslide"
    }
   },
   "source": [
    "## DATA PROPERTY: Access To The Macro Data\n",
    "### mythen_take: Mythen Data Collection macro at BL04-MSPD Beamline \n",
    "\n",
    "* Experiment Requirements:\n",
    "    * Process the **voltage** read thanks to the Adlink DAQ\n",
    "    * Store each voltage with the corresponding spectrum\n",
    "\n",
    "\n",
    "* Solution: \n",
    "    * **mythen_take macro**: https://sourceforge.net/p/sardana/macros.git/ci/master/tree/ALBA_BL04_MSPD/mythen.py#l2210\n",
    "    * mythen_take macro allows to: \n",
    "        * call a custom ct macro to get the Potentiostat Voltage\n",
    "        * *Get the ct voltage data using the python property* **.data** *from the macro object*\n",
    "        * Perform a Mythen spectrum acquisition\n",
    "        * Store the **Voltage** and the **Spectrum** in the same file  "
   ]
  }
 ],
 "metadata": {
  "celltoolbar": "Slideshow",
  "kernelspec": {
   "display_name": "Python 2",
   "language": "python",
   "name": "python2"
  },
  "language_info": {
   "codemirror_mode": {
    "name": "ipython",
    "version": 2
   },
   "file_extension": ".py",
   "mimetype": "text/x-python",
   "name": "python",
   "nbconvert_exporter": "python",
   "pygments_lexer": "ipython2",
   "version": "2.7.13"
  }
 },
 "nbformat": 4,
 "nbformat_minor": 2
}
