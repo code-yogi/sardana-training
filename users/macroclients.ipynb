{
 "cells": [
  {
   "cell_type": "markdown",
   "metadata": {
    "slideshow": {
     "slide_type": "slide"
    }
   },
   "source": [
    "# MACRO EXECUTION GUI CLIENTS\n",
    "<br>\n",
    "<br>\n",
    "<img alt=\"Creative Commons License\" style=\"border-width:0\" src=\"https://i.creativecommons.org/l/by/4.0/88x31.png\" />\n",
    "Sardana-Training by ALBA Synchrotron is licensed under the Creative Commons Attribution 4.0 International License.  \n",
    "To view a copy of this license, visit http://creativecommons.org/licenses/by/4.0/."
   ]
  },
  {
   "cell_type": "markdown",
   "metadata": {
    "slideshow": {
     "slide_type": "subslide"
    }
   },
   "source": [
    "## MACRO EXECUTION GUI CLIENTS\n",
    "\n",
    "\n",
    "### * MacroExecutor  \n",
    "\n",
    "\n",
    "### * Sequencer  \n",
    "\n",
    "\n",
    "### * MacroButton  \n",
    "\n"
   ]
  },
  {
   "cell_type": "markdown",
   "metadata": {
    "slideshow": {
     "slide_type": "slide"
    }
   },
   "source": [
    "# RUN SARDANA SYSTEM"
   ]
  },
  {
   "cell_type": "markdown",
   "metadata": {
    "slideshow": {
     "slide_type": "subslide"
    }
   },
   "source": [
    "### RUN SARDANA INSIDE THE DOCKER\n",
    "\n",
    " \n",
    "* Execute Docker\n",
    "```\n",
    "xhost +local:\n",
    "docker exec -it taurus-stretch bash\n",
    "```\n",
    "\n",
    "* Run the **Sardana Tango Device Server**: \n",
    "```\n",
    "Sardana demo1\n",
    "```\n",
    "\n",
    "* Run **spock**:  \n",
    "```\n",
    "spock --profile=profile1\n",
    "```\n",
    "\n",
    "* Create **Sardana demo elements**: \n",
    "```\n",
    "sar_demo\n",
    "```\n"
   ]
  },
  {
   "cell_type": "markdown",
   "metadata": {
    "slideshow": {
     "slide_type": "slide"
    }
   },
   "source": [
    "# MACROEXECUTOR \n",
    "\n",
    "## A Sardana GUI for executing Macros"
   ]
  },
  {
   "cell_type": "markdown",
   "metadata": {
    "slideshow": {
     "slide_type": "subslide"
    }
   },
   "source": [
    "### MACROEXECUTOR: Executing Macros\n",
    "  \n",
    "  \n",
    "* **macroexecutor** is a Sardana GUI for Executing Macros\n",
    "* Menu bar: *Taurus* -> *Change configuration* : It allows to choose the MacroServer to be connected to.\n",
    "* Macro selection and parameters window\n",
    "* Execution Control Buttons: Play / Pause / Stop buttons\n",
    "* Command Line Execution (yellow bar)\n",
    "* Macro Execution Progress Bar\n",
    "* History Viewer\n",
    "* Favourite List\n",
    "* Output of the macros has to be viewed in another client as **Spock**\n",
    "\n",
    "\n",
    "* Demo with move macro 'mv' (allowing Parameter Repetition):\n",
    "    * Group of empty parameters can be **added**\n",
    "    * **Changing order** of execution (icons up and down)\n",
    "    * Group of parameters can be **removed**\n",
    "    * Group of parameters with its corresponding values can be **duplicated**\n",
    "    \n",
    "  "
   ]
  },
  {
   "cell_type": "markdown",
   "metadata": {
    "slideshow": {
     "slide_type": "slide"
    }
   },
   "source": [
    "# SEQUENCER\n",
    "\n",
    "## A Sardana GUI for executing Sequences of Macros    "
   ]
  },
  {
   "cell_type": "markdown",
   "metadata": {
    "slideshow": {
     "slide_type": "subslide"
    }
   },
   "source": [
    "### SEQUENCER: Executing a Sequence of Macros\n",
    "  \n",
    "  \n",
    "* **sequencer**: is a Sardana **GUI** for Executing a Sequence of Macros\n",
    "* **Macros**: Add / remove / reorganize order of macros\n",
    "* **Sequences**: can be played, paused, and aborted: play, pause, stop button\n",
    "* **Hooks**: A Macro can be executed as a **hook** of another macro\n",
    "* Scans are some of the macros accepting **hooks**. Hookplaces in scans are:\n",
    "    * pre/post-scan\n",
    "    * pre/post-move\n",
    "    * pre/post-acquisition\n",
    "    * post-step\n",
    "* **Macro Parameters**: Groups of Parameters, can be:\n",
    "    * Added\n",
    "    * Removed\n",
    "    * Duplicated, by duplicating the same values\n",
    "    * Reorganized\n",
    "* **Save/Load sequence**: A sequence can be saved and loaded in xml to be used in different experiments\n",
    "    * save sequence button\n",
    "    * open sequence button\n",
    "\n",
    "  "
   ]
  },
  {
   "cell_type": "markdown",
   "metadata": {
    "slideshow": {
     "slide_type": "slide"
    }
   },
   "source": [
    "# MACROBUTTON\n",
    "\n",
    "## A GUI button to execute a single macro"
   ]
  },
  {
   "cell_type": "markdown",
   "metadata": {
    "slideshow": {
     "slide_type": "subslide"
    }
   },
   "source": [
    "### MACROBUTTON: A GUI button to execute a single macro\n",
    "  \n",
    "  \n",
    "* **macrobutton** is a GUI button allowing execution of a single macro\n",
    "* It can be integraged in TaurusGUIs\n",
    "* It allows running and aborting a macro (by clicking and reclicking the button)\n",
    "* It allows to see the macro progression \n",
    "\n",
    "  "
   ]
  },
  {
   "cell_type": "markdown",
   "metadata": {
    "slideshow": {
     "slide_type": "subslide"
    }
   },
   "source": [
    "### MACROBUTTON: A GUI button to execute a single macro -> DEMO\n",
    "  \n",
    "\n",
    "**Demo** of a macrobutton executed on the container:\n",
    "\n",
    "Run spock to see the results:  \n",
    "```\n",
    "spock --profile demo1\n",
    "```  \n",
    "\n",
    "Execute the **macrobutton** code, which in this case **executes the 'lsm' macro**, and see the **output of the executed macro in spock**.\n",
    "\n",
    "* macrobutton executing an lsm macro:  \n",
    "```\n",
    "python /sardana-training/res/macrobutton/macrobutton_lsm.py\n",
    "```\n",
    "\n",
    "* macrobutton executing an ascan macro:  \n",
    "```\n",
    "python /sardana-training/res/macrobutton/macrobutton_scan.py\n",
    "```  \n",
    "\n",
    "  "
   ]
  },
  {
   "cell_type": "markdown",
   "metadata": {
    "slideshow": {
     "slide_type": "subslide"
    }
   },
   "source": [
    "### MACROBUTTON: Demo of MacroButton from Sardana Installation\n",
    "\n",
    "Demo inside Sardana allowing to execute a given macro, specified by the user, using a **macrobutton**:  \n",
    "\n",
    "Indicate the Sardana **door** as argument:\n",
    "\n",
    "```\n",
    "python -m sardana.taurus.qt.qtgui.extra_macroexecutor.macrobutton.py <door>\n",
    "```  \n",
    "\n",
    "![Sardana macrobutton application](res/macrobutton_simple_app.png)\n",
    "\n",
    "  "
   ]
  },
  {
   "cell_type": "markdown",
   "metadata": {
    "slideshow": {
     "slide_type": "subslide"
    }
   },
   "source": [
    "### MACROBUTTON: BL13-Xaloc ALBA Beamline Use Case\n",
    "\n",
    "BL13-Xaloc Beamline uses Macrobuttons in a TaurusGUI for focusing the sample image and for looking for the best diffraction position on the sample\n",
    "\n",
    "![BL13-Xaloc GUI with Macrobuttons](res/OAV_raster.jpg)\n",
    "\n",
    "  "
   ]
  }
 ],
 "metadata": {
  "celltoolbar": "Slideshow",
  "kernelspec": {
   "display_name": "Python 2",
   "language": "python",
   "name": "python2"
  },
  "language_info": {
   "codemirror_mode": {
    "name": "ipython",
    "version": 2
   },
   "file_extension": ".py",
   "mimetype": "text/x-python",
   "name": "python",
   "nbconvert_exporter": "python",
   "pygments_lexer": "ipython2",
   "version": "2.7.13"
  }
 },
 "nbformat": 4,
 "nbformat_minor": 2
}
