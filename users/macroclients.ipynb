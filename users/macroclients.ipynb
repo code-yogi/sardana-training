{
 "cells": [
  {
   "cell_type": "markdown",
   "metadata": {
    "slideshow": {
     "slide_type": "slide"
    }
   },
   "source": [
    "# MACRO EXECUTION CLIENTS\n",
    "<br>\n",
    "<br>\n",
    "<img alt=\"Creative Commons License\" style=\"border-width:0\" src=\"https://i.creativecommons.org/l/by/4.0/88x31.png\" />\n",
    "Sardana-Training by ALBA Synchrotron is licensed under the Creative Commons Attribution 4.0 International License.  \n",
    "To view a copy of this license, visit http://creativecommons.org/licenses/by/4.0/."
   ]
  },
  {
   "cell_type": "markdown",
   "metadata": {
    "slideshow": {
     "slide_type": "subslide"
    }
   },
   "source": [
    "## MACRO EXECUTION CLIENTS\n",
    "\n",
    "* Spock: CLI Sardana Command Line Interface Client based on IPython\n",
    "* MacroButton\n",
    "* MacroExecutor\n",
    "* Sequencer \n",
    "\n"
   ]
  },
  {
   "cell_type": "markdown",
   "metadata": {
    "slideshow": {
     "slide_type": "slide"
    }
   },
   "source": [
    "# SETUP A CLEAN ENVIRONMENT\n",
    "\n",
    "## taurus-test Docker Container Creation"
   ]
  },
  {
   "cell_type": "markdown",
   "metadata": {
    "slideshow": {
     "slide_type": "subslide"
    }
   },
   "source": [
    "### CLEAN DOCKER CONTAINER CREATION\n",
    "\n",
    "#### Create a clean docker container for Sardana Suite installation & TaurusGUI creation from scratch\n",
    "    \n",
    "* Pull the **taurus-test** image from dockerhub\n",
    "```\n",
    "docker pull cpascual/taurus-test:debian-stretch\n",
    "```\n",
    "  \n",
    "  \n",
    "* Instantiate and execute the docker conatiner\n",
    "```\n",
    "xhost +local:\n",
    "docker run -d --name=taurus-stretch -h taurus-test -e DISPLAY=$DISPLAY -e QT_X11_NO_MITSHM=1 -v /tmp/.X11-unix:/tmp/.X11-unix cpascual/taurus-test:debian-stretch\n",
    "docker exec -it taurus-stretch bash\n",
    "```\n",
    "  \n",
    "  \n",
    "* Docker taurus-test provides:  \n",
    "    * Taurus dependencies and recommended packages (PyTango, PyQt, Qwt...)\n",
    "    * A TangoDB and a TangoTest DS configured and running\n"
   ]
  },
  {
   "cell_type": "markdown",
   "metadata": {
    "slideshow": {
     "slide_type": "slide"
    }
   },
   "source": [
    "# INSTALL SARDANA SUITE\n",
    "\n",
    "## Taurus and Sardana Installation from Source Code"
   ]
  },
  {
   "cell_type": "markdown",
   "metadata": {
    "slideshow": {
     "slide_type": "subslide"
    }
   },
   "source": [
    "### TAURUS AND SARDANA INSTALLATION INSIDE THE CLEAN DOCKER\n",
    "\n",
    "#### Installing Taurus and Sardana inside the clean taurus-test Docker previously created\n",
    "  \n",
    "* Taurus installation from source code\n",
    "```\n",
    "git clone -b develop https://github.com/taurus-org/taurus.git\n",
    "cd taurus\n",
    "python setup.py install\n",
    "cd ..\n",
    "```\n",
    "  \n",
    "  \n",
    "* Sardana installation from source code\n",
    "```\n",
    "git clone -b develop https://github.com/sardana-org/sardana.git\n",
    "cd sardana\n",
    "python setup.py install\n",
    "cd ..\n",
    "```\n",
    "  \n"
   ]
  },
  {
   "cell_type": "markdown",
   "metadata": {
    "slideshow": {
     "slide_type": "slide"
    }
   },
   "source": [
    "# SPOCK\n",
    "## The Sardana Command Line Interface"
   ]
  },
  {
   "cell_type": "markdown",
   "metadata": {
    "slideshow": {
     "slide_type": "subslide"
    }
   },
   "source": [
    "## Spock\n",
    "\n",
    "### Run Sardana:\n",
    "\n",
    "* Run the **Sardana Tango Device Server**: ```Sardana demo1```\n",
    "\n",
    "\n",
    "### Spock: The Sardana CLI based on IPython\n",
    "\n",
    "\n",
    "* **spock**: the Sardana Comand Line Interface (CLI)\n",
    "* It allows to **interact** with the **Sardana elements** by executing **macros**\n",
    "* Python commands can be executed from Spock    \n",
    "* Spock profiles:\n",
    "    * Many different profiles can exist\n",
    "    * Each spock profile is associtated to a given Door (the entry points of Sardana)\n",
    "    * Macros can be launched concurrently on different Doors (if not involving the same elements)\n",
    "* Macro parameters syntax is basically a space separated string\n",
    "* Ctrl+C allows to stop the current macro\n",
    "* Demo:\n",
    "    * Run **spock** by creating a profile(/s):  \n",
    "        ```\n",
    "        spock --profile=profile1\n",
    "        ```\n",
    "\n",
    "  \n"
   ]
  },
  {
   "cell_type": "markdown",
   "metadata": {
    "slideshow": {
     "slide_type": "subslide"
    }
   },
   "source": [
    "### Spock: Executing Macros from the Spock Sardana CLI\n",
    "\n",
    "\n",
    "* Create some demonstration elements:\n",
    "    ```\n",
    "    sar_demo\n",
    "    ```\n",
    "\n",
    "\n",
    "* Execute some macros: \n",
    "List motors, move motors, list measurement groups, perform single acquisition,  \n",
    "perform scan, list Sardana environment variables,   \n",
    "record scan results by setting Sardana environment variables.\n",
    "    ```\n",
    "    lsm\n",
    "    ```\n",
    "    ```\n",
    "    mv mot01 2\n",
    "    ```\n",
    "    ```\n",
    "    wm mot01\n",
    "    ```\n",
    "    ```\n",
    "    mv [[mot01 5] [mot02 7] [mot03 -2]] \n",
    "    ```\n",
    "    ```\n",
    "    lsmeas\n",
    "    ```\n",
    "    ```\n",
    "    ct\n",
    "    ```\n",
    "    ```\n",
    "    ascan mot05 0 2 5 0.5\n",
    "    ```\n",
    "    ```\n",
    "    lsenv\n",
    "    ```\n",
    "    ```\n",
    "    senv ScanDir /tmp\n",
    "    ```\n",
    "    ```\n",
    "    senv ScanFile scan.txt\n",
    "    ```\n",
    "    ```\n",
    "    ascan mot05 0 2 5 0.5\n",
    "    ```\n",
    "\n",
    "\n",
    "  \n"
   ]
  },
  {
   "cell_type": "markdown",
   "metadata": {
    "slideshow": {
     "slide_type": "slide"
    }
   },
   "source": [
    "# MACROEXECUTOR \n",
    "\n",
    "## A Sardana GUI for executing Macros"
   ]
  },
  {
   "cell_type": "markdown",
   "metadata": {
    "slideshow": {
     "slide_type": "subslide"
    }
   },
   "source": [
    "### MACROEXECUTOR: Executing Macros\n",
    "  \n",
    "  \n",
    "* **macroexecutor** is a Sardana GUI for Executing Macros\n",
    "* Menu bar: *Taurus* -> *Change configuration* : It allows to choose the MacroServer to be connected to.\n",
    "* Macro selection and parameters window\n",
    "* Execution Control Buttons: Play / Pause / Stop buttons\n",
    "* Command Line Execution (yellow bar)\n",
    "* Macro Execution Progress Bar\n",
    "* History Viewer\n",
    "* Favourite List\n",
    "* Output of the macros has to be viewed in another client as **Spock**\n",
    "\n",
    "\n",
    "* Demo with move macro 'mv' (allowing Parameter Repetition):\n",
    "    * Group of empty parameters can be **added**\n",
    "    * **Changing order** of execution (icons up and down)\n",
    "    * Group of parameters can be **removed**\n",
    "    * Group of parameters with its corresponding values can be **duplicated**\n",
    "    \n",
    "  "
   ]
  },
  {
   "cell_type": "markdown",
   "metadata": {
    "slideshow": {
     "slide_type": "slide"
    }
   },
   "source": [
    "# SEQUENCER\n",
    "\n",
    "## A Sardana GUI for executing Sequences of Macros    "
   ]
  },
  {
   "cell_type": "markdown",
   "metadata": {
    "slideshow": {
     "slide_type": "subslide"
    }
   },
   "source": [
    "### SEQUENCER: Executing a Sequence of Macros\n",
    "  \n",
    "  \n",
    "* **sequencer**: is a Sardana **GUI** for Executing a Sequence of Macros\n",
    "* **Macros**: Add / remove / reorganize order of macros\n",
    "* **Sequences**: can be played, paused, and aborted: play, pause, stop button\n",
    "* **Hooks**: A Macro can be executed as a **hook** of another macro\n",
    "* Scans are some of the macros accepting **hooks**. Hookplaces in scans are:\n",
    "    * pre/post-scan\n",
    "    * pre/post-move\n",
    "    * pre/post-acquisition\n",
    "    * post-step\n",
    "* **Macro Parameters**: Groups of Parameters, can be:\n",
    "    * Added\n",
    "    * Removed\n",
    "    * Duplicated, by duplicating the same values\n",
    "    * Reorganized\n",
    "* **Save/Load sequence**: A sequence can be saved and loaded in xml to be used in different experiments\n",
    "    * save sequence button\n",
    "    * open sequence button\n",
    "\n",
    "  "
   ]
  },
  {
   "cell_type": "markdown",
   "metadata": {
    "slideshow": {
     "slide_type": "slide"
    }
   },
   "source": [
    "# MACROBUTTON\n",
    "\n",
    "## A GUI button to execute a single macro"
   ]
  },
  {
   "cell_type": "markdown",
   "metadata": {
    "slideshow": {
     "slide_type": "subslide"
    }
   },
   "source": [
    "### MACROBUTTON: A GUI button to execute a single macro\n",
    "  \n",
    "  \n",
    "* **macrobutton** is a GUI button allowing execution of a single macro\n",
    "* It can be integraged in TaurusGUIs\n",
    "* It allows running and aborting a macro (by clicking and reclicking the button)\n",
    "* It allows to see the macro progression \n",
    "\n",
    "  "
   ]
  },
  {
   "cell_type": "markdown",
   "metadata": {
    "slideshow": {
     "slide_type": "subslide"
    }
   },
   "source": [
    "### MACROBUTTON: A GUI button to execute a single macro -> DEMO\n",
    "  \n",
    "\n",
    "**Demo** of a macrobutton executed on the container:\n",
    "\n",
    "Get the code of a simple macrobutton taurusapplication:  \n",
    "```git clone  https://github.com/mrosanes/macrobutton.git```\n",
    "\n",
    "Run spock to see the results:  \n",
    "```spock --profile demo1```  \n",
    "\n",
    "Execute the **macrobutton** code, which in this case **executes the 'lsm' macro**, and see the **output of the executed macro in spock**.\n",
    "\n",
    "* macrobutton executing an lsm macro:  \n",
    "```python /macrobutton/macrobutton_lsm.py```\n",
    "\n",
    "\n",
    "* macrobutton executing an ascan macro:  \n",
    "```python /macrobutton/macrobutton_scan.py```  \n",
    "\n",
    "  "
   ]
  },
  {
   "cell_type": "markdown",
   "metadata": {
    "slideshow": {
     "slide_type": "subslide"
    }
   },
   "source": [
    "### MACROBUTTON: Demo of MacroButton from Sardana Installation\n",
    "\n",
    "Demo inside Sardana allowing to execute a given macro, specified by the user, using a **macrobutton**:  \n",
    "\n",
    "Indicate the Sardana **door** as argument:\n",
    "\n",
    "```cd /usr/local/lib/python2.7/dist-packages/sardana/taurus/qt/qtgui/extra_macroexecutor/```  \n",
    "\n",
    "\n",
    "```python macrobutton.py door/demo1/1```\n",
    "\n",
    "![Sardana macrobutton application](macrobutton_simple_app.png)\n",
    "\n",
    "  "
   ]
  },
  {
   "cell_type": "markdown",
   "metadata": {
    "slideshow": {
     "slide_type": "subslide"
    }
   },
   "source": [
    "### MACROBUTTON: Beamline Use Case\n",
    "\n",
    "BL13-Xaloc Beamline at ALBA Synchrotron is using Macrobuttons in a TaurusGUI for focusing the sample image and for looking for the best diffraction position on the sample\n",
    "\n",
    "![BL13-Xaloc GUI with Macrobuttons](OAV_raster.jpg)\n",
    "\n",
    "  "
   ]
  }
 ],
 "metadata": {
  "celltoolbar": "Slideshow",
  "kernelspec": {
   "display_name": "Python 2",
   "language": "python",
   "name": "python2"
  },
  "language_info": {
   "codemirror_mode": {
    "name": "ipython",
    "version": 2
   },
   "file_extension": ".py",
   "mimetype": "text/x-python",
   "name": "python",
   "nbconvert_exporter": "python",
   "pygments_lexer": "ipython2",
   "version": "2.7.13"
  }
 },
 "nbformat": 4,
 "nbformat_minor": 2
}
