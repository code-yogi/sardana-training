{
 "cells": [
  {
   "cell_type": "markdown",
   "metadata": {
    "slideshow": {
     "slide_type": "slide"
    }
   },
   "source": [
    "# TAURUS GUI CREATION FROM SCRATCH\n",
    "<br>\n",
    "<br>\n",
    "<img alt=\"Creative Commons License\" style=\"border-width:0\" src=\"https://i.creativecommons.org/l/by/4.0/88x31.png\" />\n",
    "Sardana-Training by ALBA Synchrotron is licensed under the Creative Commons Attribution 4.0 International License.  \n",
    "To view a copy of this license, visit http://creativecommons.org/licenses/by/4.0/."
   ]
  },
  {
   "cell_type": "markdown",
   "metadata": {
    "slideshow": {
     "slide_type": "subslide"
    }
   },
   "source": [
    "## Creation of a Taurus GUI containing Sardana elements\n",
    "\n",
    "* Instantiate a taurus-test Docker container\n",
    "* Install Taurus and Sardana\n",
    "* Run Sardana, spock and create Sardana Elements and Instruments\n",
    "* Create a Taurus GUI from scratch\n",
    "* Show features of a TaurusGUI: drag & drop panels, add & remove perspectives...\n"
   ]
  },
  {
   "cell_type": "markdown",
   "metadata": {
    "slideshow": {
     "slide_type": "slide"
    }
   },
   "source": [
    "# RUN SARDANA SYSTEM\n",
    "\n",
    "## Instantiate Sardana - Create Elements - Create Instruments"
   ]
  },
  {
   "cell_type": "markdown",
   "metadata": {
    "slideshow": {
     "slide_type": "subslide"
    }
   },
   "source": [
    "# RUN SARDANA SYSTEM\n",
    "\n",
    "## Execute Docker Container - Instantiate Sardana\n",
    "\n",
    "* Execute the Docker Container created in Sardana from scratch\n",
    "```\n",
    "xhost +local:\n",
    "docker exec -it taurus-stretch bash\n",
    "```\n",
    "\n",
    "\n",
    "* Instantiate the **Sardana Tango Device Server**:\n",
    "```\n",
    "Sardana demo1\n",
    "```\n"
   ]
  },
  {
   "cell_type": "markdown",
   "metadata": {
    "slideshow": {
     "slide_type": "subslide"
    }
   },
   "source": [
    "# RUN SARDANA SYSTEM\n",
    "\n",
    "## Run Spock - Create Elements - Create Instruments\n",
    "  \n",
    "\n",
    "  \n",
    "* Run **spock** CLI:\n",
    "```\n",
    "spock --profile=demo1\n",
    "```\n",
    "  \n",
    "* Create **Sardana demo elements**: \n",
    "```\n",
    "sar_demo\n",
    "```\n",
    "\n",
    "* Create **instruments**:\n",
    "```\n",
    "Pool_demo1_1.CreateInstrument(['/slit','NXcollimator'])\n",
    "mot01.instrument = '/slit'\n",
    "mot02.instrument = '/slit'\n",
    "gap01.instrument = '/slit'\n",
    "offset01.instrument = '/slit'\n",
    "Pool_demo1_1.CreateInstrument(['/mirror','NXmirror'])\n",
    "mot03.instrument = '/mirror'\n",
    "mot04.instrument = '/mirror'\n",
    "```\n"
   ]
  },
  {
   "cell_type": "markdown",
   "metadata": {
    "slideshow": {
     "slide_type": "slide"
    }
   },
   "source": [
    "# TAURUS GUI CREATION\n",
    "\n",
    "## Create a Taurus GUI from scratch containing Sardana elements"
   ]
  },
  {
   "cell_type": "markdown",
   "metadata": {
    "slideshow": {
     "slide_type": "subslide"
    }
   },
   "source": [
    "### TAURUS GUI CREATION FROM SCRATCH\n",
    "  \n",
    "  \n",
    "* Create a new GUI with **taurusgui --new-gui**\n",
    "```\n",
    "taurusgui --new-gui \n",
    "```\n",
    "  \n",
    "  \n",
    "* Follow the wizard of **taurusgui --new-gui**\n",
    " * Choose the project directory (e.g: */home/bar*)\n",
    " * Choose GUI name (e.g: foogui)\n",
    " * Add synoptic (optional): /sardana-training/users/res/example01.jdw \n",
    " * Enable Sardana communication (optional): Sardana *demo1* \n",
    " * Generate panels from Sardana Pool (optional): choose *yes* \n",
    " * We will skip some steps: custom logo, extra panels, Monitor list\n",
    "  \n",
    "  \n",
    "* Install the freshly created Taurus GUI:\n",
    "```\n",
    "pip install /home/bar\n",
    "```\n",
    "  \n",
    "  \n",
    "* Congratulations! You can already run your freshly created GUI:\n",
    "```\n",
    "foogui\n",
    "```\n",
    "  "
   ]
  },
  {
   "cell_type": "markdown",
   "metadata": {
    "slideshow": {
     "slide_type": "slide"
    }
   },
   "source": [
    "# TAURUS GUI FEATURES\n",
    "\n",
    "## Playing with foogui: Adding panels, loading perspectives, etc."
   ]
  },
  {
   "cell_type": "markdown",
   "metadata": {
    "slideshow": {
     "slide_type": "subslide"
    }
   },
   "source": [
    "### TAURUS GUI FEATURES - Playing with foogui\n",
    " \n",
    "* Unlock the *foogui* taurusgui view \n",
    "* Showing the Sardana Instrument panels\n",
    "* Create a new panel in *foogui* and saving it in the permanent configuration\n",
    "* Add elements to a custom panel\n",
    "* Drag & Drop different panels\n",
    "* Drag & Drop from form to a trend\n",
    "* Save and load different perspectives\n",
    "* Showing the relation between the synoptic and the panels\n",
    " * Create two new panels with the names of the jdraw sections\n",
    " * Restart *foogui*\n",
    " * Manage the instrument-panel associations\n",
    "\n",
    "\n"
   ]
  }
 ],
 "metadata": {
  "celltoolbar": "Slideshow",
  "kernelspec": {
   "display_name": "Python 2",
   "language": "python",
   "name": "python2"
  },
  "language_info": {
   "codemirror_mode": {
    "name": "ipython",
    "version": 2
   },
   "file_extension": ".py",
   "mimetype": "text/x-python",
   "name": "python",
   "nbconvert_exporter": "python",
   "pygments_lexer": "ipython2",
   "version": "2.7.13"
  }
 },
 "nbformat": 4,
 "nbformat_minor": 2
}
