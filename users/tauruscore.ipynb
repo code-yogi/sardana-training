{
 "cells": [
  {
   "cell_type": "markdown",
   "metadata": {
    "slideshow": {
     "slide_type": "slide"
    }
   },
   "source": [
    "# Accessing different data sources from within Taurus\n",
    "<br>\n",
    "<br>\n",
    "<img alt=\"Creative Commons License\" style=\"border-width:0\" src=\"https://i.creativecommons.org/l/by/4.0/88x31.png\" />\n",
    "Sardana-Training by ALBA Synchrotron is licensed under the Creative Commons Attribution 4.0 International License.  \n",
    "To view a copy of this license, visit http://creativecommons.org/licenses/by/4.0/."
   ]
  },
  {
   "cell_type": "markdown",
   "metadata": {
    "slideshow": {
     "slide_type": "subslide"
    }
   },
   "source": [
    "# Accessing different data sources from within Taurus\n",
    "\n",
    "* Data access theory (MVC)\n",
    "* Demonstrate eval scheme possibilities on examples\n",
    "* How to write a scheme (code review h5file)\n",
    "    * Design mapping for Authority, Device and Attribute\n",
    "    * Decide URI syntax: write unit test validators\n",
    "    * Write validators\n",
    "    * Implement Authority, Device and Attribute classes\n"
   ]
  },
  {
   "cell_type": "markdown",
   "metadata": {
    "slideshow": {
     "slide_type": "slide"
    }
   },
   "source": [
    "# Data access theory (MVC)(I)\n",
    "\n",
    "![MVC](res/mvc.png)\n",
    "\n"
   ]
  },
  {
   "cell_type": "markdown",
   "metadata": {
    "slideshow": {
     "slide_type": "subslide"
    }
   },
   "source": [
    "# Data access theory (MVC)(II)\n",
    "![MODEL](res/model.png)"
   ]
  },
  {
   "cell_type": "markdown",
   "metadata": {
    "slideshow": {
     "slide_type": "subslide"
    }
   },
   "source": [
    "# Data access theory (MVC)(III)\n",
    "![MODEL-VIEW](res/model-view.png)"
   ]
  },
  {
   "cell_type": "markdown",
   "metadata": {
    "slideshow": {
     "slide_type": "slide"
    }
   },
   "source": [
    "# Demonstrate eval scheme possibilities on examples\n",
    "\n",
    "\n",
    "## WebCam\n",
    "\n",
    "```\n",
    "taurusform \"eval:@c=cv2.VideoCapture(0)/c.read()[1][...,1]\"\n",
    "```\n",
    "\n",
    "## Mouse\n",
    "\n",
    "```\n",
    "taurusform \"eval:@c=mouse.Mouse()/c.X_POS\" \"eval:@c=mouse.Mouse()/c.Y_POS\"\n",
    "```\n"
   ]
  },
  {
   "cell_type": "markdown",
   "metadata": {
    "slideshow": {
     "slide_type": "slide"
    }
   },
   "source": [
    "# How to write a scheme ( [h5file scheme](https://github.com/taurus-org/h5file-scheme))\n",
    "\n",
    "## Design mapping \n",
    "\n",
    "* Factory, a Singleton class that provides h5 file related objects\n",
    "* Authority, a model that provides a context for Devices and Attributes\n",
    "* Device, a stateful model that may execute actions, or may be a natural aggregator of Attributes\n",
    "* Attribute, a model that provides a value and related metadata\n",
    "\n",
    "### h5file scheme\n",
    "\n",
    "* H5fileAuthority, is a dummy class, it simulates an IP address (LOCALHOST)\n",
    "* H5fileDevice, is a h5 filename\n",
    "* H5fileAttribute, is a h5 file process variable\n",
    "\n",
    "\n",
    "\n"
   ]
  },
  {
   "cell_type": "markdown",
   "metadata": {
    "slideshow": {
     "slide_type": "subslide"
    }
   },
   "source": [
    "## Decide URI syntax\n",
    "\n",
    "###  Uniform Resource Identifier (URI) syntax\n",
    "\n",
    "* [RFC3986](https://tools.ietf.org/html/rfc3986)\n",
    "* [TEP3](https://github.com/taurus-org/taurus/blob/develop/doc/source/tep/TEP3.md#refactoring-of-model-name-syntax)\n",
    "* Taurus\n",
    "```\n",
    "Auth: <scheme>:<authority>[/<path>][?<query>][#<fragment>]   \n",
    "Dev:  <scheme>:[<authority>/]<path>[?<query>][#<fragment>]\n",
    "Attr: <scheme>:[<authority>/]<path>[?<query>][#<fragment>]\n",
    "```\n",
    "\n",
    "* H5File\n",
    "```\n",
    "Auth: h5file://localhost  \n",
    "Dev:  h5file:[//localhost]/path/to/file.h5\n",
    "Attr: h5file:[//localhost]/path/to/file.h5::group[/dataset][/attribute]'\n",
    "```\n",
    "\n"
   ]
  },
  {
   "cell_type": "markdown",
   "metadata": {
    "slideshow": {
     "slide_type": "subslide"
    }
   },
   "source": [
    "## Unittest validators\n",
    "\n",
    "* Test-driven development (TDD) \n",
    "* [unittest](https://github.com/taurus-org/h5file-scheme/blob/master/h5file/test/test_h5filevalidator.py)\n",
    "\n",
    "## Write [Validators](https://github.com/taurus-org/h5file-scheme/blob/master/h5file/h5filevalidator.py)\n",
    "\n",
    "* Validator classes inherited from Taurus base classes\n",
    "* Define regular expresion to match the differente URI parts (path, query, and fragment)\n",
    "\n",
    "## Implement scheme classes\n",
    "\n",
    "* [Factory](https://github.com/taurus-org/h5file-scheme/blob/master/h5file/h5filefactory.py)\n",
    "Define methods to access to the different validators\n",
    "* [Authority](https://github.com/taurus-org/h5file-scheme/blob/master/h5file/h5fileauthority.py)\n",
    "Dummy\n",
    "* [Device](https://github.com/taurus-org/h5file-scheme/blob/master/h5file/h5filedevice.py)\n",
    "Dummy\n",
    "* [Attribute](https://github.com/taurus-org/h5file-scheme/blob/master/h5file/h5fileattribute.py)\n",
    "Implement encode/decode; read/write; event/polling methods"
   ]
  },
  {
   "cell_type": "markdown",
   "metadata": {
    "collapsed": true,
    "slideshow": {
     "slide_type": "subslide"
    }
   },
   "source": [
    "## H5File Demo\n",
    "\n",
    "* Install\n",
    "```\n",
    "git clone https://github.com/taurus-org/h5file-scheme.git\n",
    "cd h5file-scheme\n",
    "python setup.py install\n",
    "```\n",
    "\n",
    "* Configure taurus:\n",
    "Add `EXTRA_SCHEME_MODULES = ['h5file']` in tauruscustomsettings.\n",
    "```\n",
    "vi /usr/local/lib/python2.7/dist-packages/taurus-4.1.2a0-py2.7.egg/taurus/tauruscustomsettings.py\n",
    "```\n",
    "\n",
    "* Test\n",
    "```\n",
    "taurusform \"h5file:/usr/local/lib/python2.7/dist-packages/h5file-0.0.1-py2.7.egg/h5file/test/res/sardana_scan.h5::entry259/measurement/mot76\"\n",
    "```"
   ]
  }
 ],
 "metadata": {
  "celltoolbar": "Slideshow",
  "kernelspec": {
   "display_name": "Python 2",
   "language": "python",
   "name": "python2"
  },
  "language_info": {
   "codemirror_mode": {
    "name": "ipython",
    "version": 2
   },
   "file_extension": ".py",
   "mimetype": "text/x-python",
   "name": "python",
   "nbconvert_exporter": "python",
   "pygments_lexer": "ipython2",
   "version": "2.7.13"
  }
 },
 "nbformat": 4,
 "nbformat_minor": 2
}
